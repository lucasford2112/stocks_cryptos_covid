{
 "cells": [
  {
   "cell_type": "markdown",
   "metadata": {},
   "source": [
    "# Cryptocurrencies, stock markets and COVID-19"
   ]
  },
  {
   "cell_type": "markdown",
   "metadata": {},
   "source": [
    "The discussion about up to what level do investors look into the real economy to make decisions is a much debated one. The positive and behavioral approaches -along with all their intersections- are research rabbit holes that seek to shed some light on the logic behind investment allocation decisions. However, no matter how far into one side or another one was standing, Covid-19 paralyzed the world. Therefore, it was discounted that the largest economic shock of our generation would be reflected in the forever record breaking stock market. But what about the crypto market? After the Bitcoin halving that took place in May 2020, a bull market was expected in the crypto universe. If history serves as a predictor of the future -another controversial debate-, 2021 was expected to be a reprise of the 2013 and 2017 bullish trends. \n",
    "\n",
    "With more than 18 months into the pandemic, we know that the stock market took a hit, followed by a fast recovery that led to new all time highs. On the other hand, we saw that Covid was not anough to cancel the crypto-party expected for this year.\n",
    "\n",
    "Let's see how all these facts look like graphically."
   ]
  },
  {
   "cell_type": "code",
   "execution_count": 1,
   "metadata": {},
   "outputs": [],
   "source": [
    "#%%capture\n",
    "# Install some necessary packages\n",
    "#!pip install functools\n",
    "#!pip install --upgrade covid\n",
    "#!pip install fastquant\n",
    "#!pip install yfinance"
   ]
  },
  {
   "cell_type": "code",
   "execution_count": 2,
   "metadata": {},
   "outputs": [],
   "source": [
    "# Import the required libraries and set some parameters\n",
    "import numpy as np\n",
    "import pandas as pd\n",
    "import fastquant as fq\n",
    "from datetime import datetime as dt\n",
    "import yfinance as yf\n",
    "from functools import reduce\n",
    "import matplotlib.pyplot as plt\n",
    "plt.rcParams[\"figure.figsize\"] = (20, 8)\n",
    "%config InlineBackend.figure_format='retina'"
   ]
  },
  {
   "cell_type": "code",
   "execution_count": 3,
   "metadata": {},
   "outputs": [],
   "source": [
    "# Import COVID data from Our World in Data\n",
    "Covid_data = pd.read_csv('https://covid.ourworldindata.org/data/owid-covid-data.csv')"
   ]
  },
  {
   "cell_type": "code",
   "execution_count": 4,
   "metadata": {},
   "outputs": [
    {
     "data": {
      "text/html": [
       "<div>\n",
       "<style scoped>\n",
       "    .dataframe tbody tr th:only-of-type {\n",
       "        vertical-align: middle;\n",
       "    }\n",
       "\n",
       "    .dataframe tbody tr th {\n",
       "        vertical-align: top;\n",
       "    }\n",
       "\n",
       "    .dataframe thead th {\n",
       "        text-align: right;\n",
       "    }\n",
       "</style>\n",
       "<table border=\"1\" class=\"dataframe\">\n",
       "  <thead>\n",
       "    <tr style=\"text-align: right;\">\n",
       "      <th></th>\n",
       "      <th>iso_code</th>\n",
       "      <th>continent</th>\n",
       "      <th>location</th>\n",
       "      <th>date</th>\n",
       "      <th>total_cases</th>\n",
       "      <th>new_cases</th>\n",
       "      <th>new_cases_smoothed</th>\n",
       "      <th>total_deaths</th>\n",
       "      <th>new_deaths</th>\n",
       "      <th>new_deaths_smoothed</th>\n",
       "      <th>...</th>\n",
       "      <th>female_smokers</th>\n",
       "      <th>male_smokers</th>\n",
       "      <th>handwashing_facilities</th>\n",
       "      <th>hospital_beds_per_thousand</th>\n",
       "      <th>life_expectancy</th>\n",
       "      <th>human_development_index</th>\n",
       "      <th>excess_mortality_cumulative_absolute</th>\n",
       "      <th>excess_mortality_cumulative</th>\n",
       "      <th>excess_mortality</th>\n",
       "      <th>excess_mortality_cumulative_per_million</th>\n",
       "    </tr>\n",
       "  </thead>\n",
       "  <tbody>\n",
       "    <tr>\n",
       "      <th>0</th>\n",
       "      <td>AFG</td>\n",
       "      <td>Asia</td>\n",
       "      <td>Afghanistan</td>\n",
       "      <td>2020-02-24</td>\n",
       "      <td>5.0</td>\n",
       "      <td>5.0</td>\n",
       "      <td>NaN</td>\n",
       "      <td>NaN</td>\n",
       "      <td>NaN</td>\n",
       "      <td>NaN</td>\n",
       "      <td>...</td>\n",
       "      <td>NaN</td>\n",
       "      <td>NaN</td>\n",
       "      <td>37.746</td>\n",
       "      <td>0.5</td>\n",
       "      <td>64.83</td>\n",
       "      <td>0.511</td>\n",
       "      <td>NaN</td>\n",
       "      <td>NaN</td>\n",
       "      <td>NaN</td>\n",
       "      <td>NaN</td>\n",
       "    </tr>\n",
       "    <tr>\n",
       "      <th>1</th>\n",
       "      <td>AFG</td>\n",
       "      <td>Asia</td>\n",
       "      <td>Afghanistan</td>\n",
       "      <td>2020-02-25</td>\n",
       "      <td>5.0</td>\n",
       "      <td>0.0</td>\n",
       "      <td>NaN</td>\n",
       "      <td>NaN</td>\n",
       "      <td>NaN</td>\n",
       "      <td>NaN</td>\n",
       "      <td>...</td>\n",
       "      <td>NaN</td>\n",
       "      <td>NaN</td>\n",
       "      <td>37.746</td>\n",
       "      <td>0.5</td>\n",
       "      <td>64.83</td>\n",
       "      <td>0.511</td>\n",
       "      <td>NaN</td>\n",
       "      <td>NaN</td>\n",
       "      <td>NaN</td>\n",
       "      <td>NaN</td>\n",
       "    </tr>\n",
       "    <tr>\n",
       "      <th>2</th>\n",
       "      <td>AFG</td>\n",
       "      <td>Asia</td>\n",
       "      <td>Afghanistan</td>\n",
       "      <td>2020-02-26</td>\n",
       "      <td>5.0</td>\n",
       "      <td>0.0</td>\n",
       "      <td>NaN</td>\n",
       "      <td>NaN</td>\n",
       "      <td>NaN</td>\n",
       "      <td>NaN</td>\n",
       "      <td>...</td>\n",
       "      <td>NaN</td>\n",
       "      <td>NaN</td>\n",
       "      <td>37.746</td>\n",
       "      <td>0.5</td>\n",
       "      <td>64.83</td>\n",
       "      <td>0.511</td>\n",
       "      <td>NaN</td>\n",
       "      <td>NaN</td>\n",
       "      <td>NaN</td>\n",
       "      <td>NaN</td>\n",
       "    </tr>\n",
       "    <tr>\n",
       "      <th>3</th>\n",
       "      <td>AFG</td>\n",
       "      <td>Asia</td>\n",
       "      <td>Afghanistan</td>\n",
       "      <td>2020-02-27</td>\n",
       "      <td>5.0</td>\n",
       "      <td>0.0</td>\n",
       "      <td>NaN</td>\n",
       "      <td>NaN</td>\n",
       "      <td>NaN</td>\n",
       "      <td>NaN</td>\n",
       "      <td>...</td>\n",
       "      <td>NaN</td>\n",
       "      <td>NaN</td>\n",
       "      <td>37.746</td>\n",
       "      <td>0.5</td>\n",
       "      <td>64.83</td>\n",
       "      <td>0.511</td>\n",
       "      <td>NaN</td>\n",
       "      <td>NaN</td>\n",
       "      <td>NaN</td>\n",
       "      <td>NaN</td>\n",
       "    </tr>\n",
       "    <tr>\n",
       "      <th>4</th>\n",
       "      <td>AFG</td>\n",
       "      <td>Asia</td>\n",
       "      <td>Afghanistan</td>\n",
       "      <td>2020-02-28</td>\n",
       "      <td>5.0</td>\n",
       "      <td>0.0</td>\n",
       "      <td>NaN</td>\n",
       "      <td>NaN</td>\n",
       "      <td>NaN</td>\n",
       "      <td>NaN</td>\n",
       "      <td>...</td>\n",
       "      <td>NaN</td>\n",
       "      <td>NaN</td>\n",
       "      <td>37.746</td>\n",
       "      <td>0.5</td>\n",
       "      <td>64.83</td>\n",
       "      <td>0.511</td>\n",
       "      <td>NaN</td>\n",
       "      <td>NaN</td>\n",
       "      <td>NaN</td>\n",
       "      <td>NaN</td>\n",
       "    </tr>\n",
       "  </tbody>\n",
       "</table>\n",
       "<p>5 rows × 65 columns</p>\n",
       "</div>"
      ],
      "text/plain": [
       "  iso_code continent     location        date  total_cases  new_cases  \\\n",
       "0      AFG      Asia  Afghanistan  2020-02-24          5.0        5.0   \n",
       "1      AFG      Asia  Afghanistan  2020-02-25          5.0        0.0   \n",
       "2      AFG      Asia  Afghanistan  2020-02-26          5.0        0.0   \n",
       "3      AFG      Asia  Afghanistan  2020-02-27          5.0        0.0   \n",
       "4      AFG      Asia  Afghanistan  2020-02-28          5.0        0.0   \n",
       "\n",
       "   new_cases_smoothed  total_deaths  new_deaths  new_deaths_smoothed  ...  \\\n",
       "0                 NaN           NaN         NaN                  NaN  ...   \n",
       "1                 NaN           NaN         NaN                  NaN  ...   \n",
       "2                 NaN           NaN         NaN                  NaN  ...   \n",
       "3                 NaN           NaN         NaN                  NaN  ...   \n",
       "4                 NaN           NaN         NaN                  NaN  ...   \n",
       "\n",
       "   female_smokers  male_smokers  handwashing_facilities  \\\n",
       "0             NaN           NaN                  37.746   \n",
       "1             NaN           NaN                  37.746   \n",
       "2             NaN           NaN                  37.746   \n",
       "3             NaN           NaN                  37.746   \n",
       "4             NaN           NaN                  37.746   \n",
       "\n",
       "   hospital_beds_per_thousand  life_expectancy  human_development_index  \\\n",
       "0                         0.5            64.83                    0.511   \n",
       "1                         0.5            64.83                    0.511   \n",
       "2                         0.5            64.83                    0.511   \n",
       "3                         0.5            64.83                    0.511   \n",
       "4                         0.5            64.83                    0.511   \n",
       "\n",
       "   excess_mortality_cumulative_absolute  excess_mortality_cumulative  \\\n",
       "0                                   NaN                          NaN   \n",
       "1                                   NaN                          NaN   \n",
       "2                                   NaN                          NaN   \n",
       "3                                   NaN                          NaN   \n",
       "4                                   NaN                          NaN   \n",
       "\n",
       "   excess_mortality  excess_mortality_cumulative_per_million  \n",
       "0               NaN                                      NaN  \n",
       "1               NaN                                      NaN  \n",
       "2               NaN                                      NaN  \n",
       "3               NaN                                      NaN  \n",
       "4               NaN                                      NaN  \n",
       "\n",
       "[5 rows x 65 columns]"
      ]
     },
     "execution_count": 4,
     "metadata": {},
     "output_type": "execute_result"
    }
   ],
   "source": [
    "# Check the dataset\n",
    "Covid_data.head()"
   ]
  },
  {
   "cell_type": "code",
   "execution_count": 5,
   "metadata": {},
   "outputs": [],
   "source": [
    "# Keep cuntry ID, date, daily number of cases and daily number of deaths\n",
    "Covid_data = Covid_data[['iso_code','date','new_cases','new_deaths']]"
   ]
  },
  {
   "cell_type": "code",
   "execution_count": 6,
   "metadata": {},
   "outputs": [
    {
     "name": "stdout",
     "output_type": "stream",
     "text": [
      "<class 'pandas.core.frame.DataFrame'>\n",
      "RangeIndex: 125965 entries, 0 to 125964\n",
      "Data columns (total 4 columns):\n",
      " #   Column      Non-Null Count   Dtype  \n",
      "---  ------      --------------   -----  \n",
      " 0   iso_code    125965 non-null  object \n",
      " 1   date        125965 non-null  object \n",
      " 2   new_cases   119150 non-null  float64\n",
      " 3   new_deaths  108371 non-null  float64\n",
      "dtypes: float64(2), object(2)\n",
      "memory usage: 3.8+ MB\n"
     ]
    }
   ],
   "source": [
    "# Check the new dataset\n",
    "Covid_data.info()"
   ]
  },
  {
   "cell_type": "code",
   "execution_count": null,
   "metadata": {},
   "outputs": [],
   "source": [
    "# See the list of countries\n",
    "Covid_data.iso_code.unique()"
   ]
  },
  {
   "cell_type": "code",
   "execution_count": null,
   "metadata": {},
   "outputs": [],
   "source": [
    "# Generate a list with the 38 OECD countries\n",
    "OECD_list = ['AUS','AUT','BEL','CAN','CHL','COL','CRI','CZE','DNK','ESP','EST','FIN','FRA','GBR','DEU','GRC','HUN','IRL','ISL',\n",
    "            'ISR', 'ITA','JPN','KOR','LVA','LTU','LUX','MEX','NLD','NOR', 'POL', 'NZL','PRT','SVK','SVN','SWE','CHE','TUR','USA']"
   ]
  },
  {
   "cell_type": "code",
   "execution_count": null,
   "metadata": {},
   "outputs": [],
   "source": [
    "# Make a mask to keep only OECD countries\n",
    "mask_OECD = Covid_data['iso_code'].apply(lambda x: any(country in x for country in OECD_list))"
   ]
  },
  {
   "cell_type": "code",
   "execution_count": null,
   "metadata": {},
   "outputs": [],
   "source": [
    "# Apply the mask and check that we have only kept the desired countries\n",
    "Covid_OECD = Covid_data[mask_OECD]\n",
    "Covid_OECD['iso_code'].unique()"
   ]
  },
  {
   "cell_type": "code",
   "execution_count": null,
   "metadata": {},
   "outputs": [],
   "source": [
    "# Generate the OECD sum of cases\n",
    "Covid_OECD_final = Covid_OECD.groupby('date').agg({'new_cases':'sum', 'new_deaths': 'sum'}).reset_index()\n",
    "Covid_OECD_final.info()"
   ]
  },
  {
   "cell_type": "code",
   "execution_count": null,
   "metadata": {},
   "outputs": [],
   "source": [
    "# Check descriptive statistics\n",
    "Covid_OECD_final.describe()"
   ]
  },
  {
   "cell_type": "code",
   "execution_count": null,
   "metadata": {},
   "outputs": [],
   "source": [
    "# Found a negative value that doesn't make sense. I check which date it corresponds to. \n",
    "Covid_OECD_final[Covid_OECD_final.new_deaths<0]"
   ]
  },
  {
   "cell_type": "markdown",
   "metadata": {},
   "source": [
    "The negative death count corresponds to May 25th 2020. I will look for further information on the OECD dataset."
   ]
  },
  {
   "cell_type": "code",
   "execution_count": null,
   "metadata": {},
   "outputs": [],
   "source": [
    "Covid_OECD[Covid_OECD.new_deaths<0]"
   ]
  },
  {
   "cell_type": "markdown",
   "metadata": {},
   "source": [
    "We can see that different days for differenc countries have a negative value for \"confirmed new deaths\". This is consistent with the interactive online graph from Our World in data: https://ourworldindata.org/explorers/coronavirus-data-explorer?zoomToSelection=true&time=2020-03-01..latest&facet=none&pickerSort=asc&pickerMetric=location&Metric=Confirmed+deaths&Interval=New+per+day&Relative+to+Population=false&Align+outbreaks=false&country=USA~GBR~CAN~DEU~ITA~IND"
   ]
  },
  {
   "cell_type": "markdown",
   "metadata": {},
   "source": [
    "It is the case that many countries modified or recheck thaeir facts with respect to previous days reports. Thefefore, the negative values correspond to rectifications of previous reports."
   ]
  },
  {
   "cell_type": "code",
   "execution_count": null,
   "metadata": {},
   "outputs": [],
   "source": [
    "# Create two new columns with moving averages\n",
    "Covid_OECD_final['cases_rolling'] = Covid_OECD_final['new_cases'].rolling(window=7).mean()\n",
    "Covid_OECD_final['deaths_rolling'] = Covid_OECD_final['new_deaths'].rolling(window=7).mean()\n",
    "Covid_OECD_final.head(n=10)"
   ]
  },
  {
   "cell_type": "code",
   "execution_count": null,
   "metadata": {},
   "outputs": [],
   "source": [
    "# Set date as index\n",
    "Covid_OECD_final['date'] = pd.to_datetime(Covid_OECD_final['date']) \n",
    "Covid_OECD_final.set_index('date', inplace=True)\n",
    "Covid_OECD_final.info()"
   ]
  },
  {
   "cell_type": "code",
   "execution_count": null,
   "metadata": {},
   "outputs": [],
   "source": []
  },
  {
   "cell_type": "markdown",
   "metadata": {},
   "source": [
    "## Stock data"
   ]
  },
  {
   "cell_type": "markdown",
   "metadata": {},
   "source": [
    "Since we are using Covid data for OECD countries, we are going to compare these numbers with 5 of its biggest economies: US 🇺🇸 (S&P500), Germany 🇩🇪 (DAX), Great Britain 🇬🇧(FTSE 100), Japan 🇯🇵 (Nikkei 225), and Canada 🇨🇦 (S&P/TSX) "
   ]
  },
  {
   "cell_type": "code",
   "execution_count": null,
   "metadata": {},
   "outputs": [],
   "source": [
    "tickers = [\"^GSPC\", \"^GDAXI\", \"^FTSE\", \"^N225\", \"^GSPTSE\"]\n",
    "from_date = \"2020-01-01\"\n",
    "to_date = dt.today()\n",
    "stocks_data = yf.download(\" \".join(tickers), start=from_date, end=to_date)\n",
    "stocks_data.head()"
   ]
  },
  {
   "cell_type": "code",
   "execution_count": null,
   "metadata": {},
   "outputs": [],
   "source": [
    "stock_markets = stocks_data['Adj Close']\n",
    "for tick in tickers:\n",
    "    stock_markets[tick + '_rolling'] = stock_markets[tick].rolling(window=7,min_periods=4).mean()\n",
    "stock_markets.head(n=10)"
   ]
  },
  {
   "cell_type": "code",
   "execution_count": null,
   "metadata": {},
   "outputs": [],
   "source": [
    "markets = ['S&P500_US','DAX_GER','LSE_GBR','NIKKEI_JPN','TSX_CAN']\n",
    "stock_markets = stock_markets.iloc[: , 5:]\n",
    "stock_markets.columns = markets\n",
    "stock_markets.head(n=10)"
   ]
  },
  {
   "cell_type": "markdown",
   "metadata": {},
   "source": [
    "## Crypto data"
   ]
  },
  {
   "cell_type": "markdown",
   "metadata": {},
   "source": []
  },
  {
   "cell_type": "code",
   "execution_count": null,
   "metadata": {},
   "outputs": [],
   "source": [
    "#set tomeframe\n",
    "from_date = \"2019-12-31\"\n",
    "to_date = dt.today().strftime('%Y-%m-%d')"
   ]
  },
  {
   "cell_type": "code",
   "execution_count": null,
   "metadata": {},
   "outputs": [],
   "source": [
    "#pull the data\n",
    "BTC = fq.get_crypto_data(\"BTC/USDT\", from_date, str(to_date))\n",
    "print('1/5 done')\n",
    "ETH = fq.get_crypto_data(\"ETH/USDT\", from_date, str(to_date)) \n",
    "print('2/5 done')\n",
    "BNB = fq.get_crypto_data(\"BNB/USDT\", from_date, str(to_date)) \n",
    "print('3/5 done')\n",
    "ADA = fq.get_crypto_data(\"ADA/USDT\", from_date, str(to_date)) \n",
    "print('4/5 done')\n",
    "XRP = fq.get_crypto_data(\"XRP/USDT\", from_date, str(to_date)) \n",
    "print('DONE')"
   ]
  },
  {
   "cell_type": "code",
   "execution_count": null,
   "metadata": {},
   "outputs": [],
   "source": []
  },
  {
   "cell_type": "code",
   "execution_count": null,
   "metadata": {},
   "outputs": [],
   "source": [
    "# Keep close price and set time as index\n",
    "BTC = BTC[['close']].rename(columns={\"close\": \"BTC_close\"})\n",
    "BTC.index.names = ['Date']\n",
    "ETH = ETH[['close']].rename(columns={\"close\": \"ETH_close\"})\n",
    "ETH.index.names = ['Date']\n",
    "BNB = BNB[['close']].rename(columns={\"close\": \"BNB_close\"})\n",
    "BNB.index.names = ['Date']\n",
    "ADA = ADA[['close']].rename(columns={\"close\": \"ADA_close\"})\n",
    "ADA.index.names = ['Date']\n",
    "XRP = XRP[['close']].rename(columns={\"close\": \"XRP_close\"})\n",
    "XRP.index.names = ['Date']"
   ]
  },
  {
   "cell_type": "code",
   "execution_count": null,
   "metadata": {},
   "outputs": [],
   "source": [
    "BTC.head()"
   ]
  },
  {
   "cell_type": "code",
   "execution_count": null,
   "metadata": {},
   "outputs": [],
   "source": [
    "# Merge all datasets\n",
    "Coins = [BTC,ETH,BNB,ADA,XRP]\n",
    "Cryptos = reduce(lambda left,right: pd.merge(left,right,left_index=True, right_index=True,\n",
    "                                            how='outer'), Coins)\n",
    "Cryptos.head()"
   ]
  },
  {
   "cell_type": "code",
   "execution_count": null,
   "metadata": {},
   "outputs": [],
   "source": [
    "# Check from and to dates\n",
    "print(f\"start date: {Cryptos.index.min()} \")\n",
    "print(f\"end date: {Cryptos.index.max()}\")"
   ]
  },
  {
   "cell_type": "code",
   "execution_count": null,
   "metadata": {},
   "outputs": [],
   "source": [
    "# Check that the merge was correct\n",
    "Cryptos.info()"
   ]
  },
  {
   "cell_type": "code",
   "execution_count": null,
   "metadata": {},
   "outputs": [],
   "source": [
    "# Create 7 days MA for each coin\n",
    "coins = ['BTC_close','ETH_close','BNB_close','ADA_close','XRP_close']\n",
    "for coin in coins:\n",
    "    Cryptos[coin + '_rolling'] = Cryptos[coin].rolling(window=7).mean()\n",
    "Cryptos.head(n=10)"
   ]
  },
  {
   "cell_type": "markdown",
   "metadata": {},
   "source": [
    "## Comparing the crypto and COVID evolution"
   ]
  },
  {
   "cell_type": "code",
   "execution_count": null,
   "metadata": {},
   "outputs": [],
   "source": []
  },
  {
   "cell_type": "code",
   "execution_count": null,
   "metadata": {},
   "outputs": [],
   "source": [
    "\n",
    "Coins = ['BTC_close_rolling','ETH_close_rolling','BNB_close_rolling','ADA_close_rolling','XRP_close_rolling']\n",
    "colors = ['darkorange','mediumblue','darkgoldenrod','royalblue','mediumturquoise']\n",
    "ncolor = 0\n",
    "#plt.rcParams[\"figure.facecolor\"] = \"w\"\n",
    "for coin in Coins:\n",
    "    # Normalize values\n",
    "    Cryptos[coin] = (Cryptos[coin] - Cryptos[coin].min()) / (Cryptos[coin].max() - Cryptos[coin].min())\n",
    "    ax = Cryptos[coin].plot(color=colors[ncolor])\n",
    "    ax.legend()\n",
    "    ncolor+=1\n",
    "ax.set(facecolor = \"lightgrey\")\n",
    "ax1 = ax.twinx()\n",
    "Covid_OECD_final['cases_rolling'].plot(c = 'red', ax = ax1, linewidth=3)\n",
    "ax1.legend(loc='lower right')\n",
    "\n",
    "plt.suptitle('Top 5 cryptocurrencies and Covid-19 cases evolution', fontsize=18)\n",
    "ax.set_xlabel('Date', fontsize=14)\n",
    "ax.set_ylabel('Normalized cryptocurrency prices', fontsize=14)\n",
    "ax1.set_ylabel('Nominal Covid-19 cases', fontsize=14)\n",
    "plt.grid(c='w')\n",
    "plt.show()"
   ]
  },
  {
   "cell_type": "code",
   "execution_count": null,
   "metadata": {},
   "outputs": [],
   "source": [
    "ncolor = 0\n",
    "for coin in Coins:\n",
    "    # Normalize values\n",
    "    Cryptos[coin] = (Cryptos[coin] - Cryptos[coin].min()) / (Cryptos[coin].max() - Cryptos[coin].min())\n",
    "    ax = Cryptos[coin].plot(color=colors[ncolor])\n",
    "    ax.legend()\n",
    "    ncolor+=1\n",
    "ax1 = ax.twinx()\n",
    "ax.set(facecolor = \"lightgrey\")\n",
    "Covid_OECD_final['deaths_rolling'].plot(c = 'black', ax = ax1, linewidth=3)\n",
    "ax1.legend(loc='lower right')\n",
    "plt.suptitle('Top 5 cryptocurrencies and Covid-19 deaths evolution', fontsize=18)\n",
    "ax.set_xlabel('Date', fontsize=14)\n",
    "ax.set_ylabel('Normalized cryptocurrency prices', fontsize=14)\n",
    "ax1.set_ylabel('Nominal Covid-19 deaths', fontsize=14)\n",
    "plt.grid(c='w')\n",
    "plt.show()"
   ]
  },
  {
   "cell_type": "code",
   "execution_count": null,
   "metadata": {},
   "outputs": [],
   "source": []
  },
  {
   "cell_type": "markdown",
   "metadata": {},
   "source": [
    "## Comparing the stocks and Covid evolution"
   ]
  },
  {
   "cell_type": "code",
   "execution_count": null,
   "metadata": {},
   "outputs": [],
   "source": [
    "tickers = ['S&P500 🇺🇸','DAX_GER','LSE_GBR','NIKKEI_JPN','TSX_CAN']\n",
    "colors = ['green','tomato','mediumvioletred','cornflowerblue','dimgray']\n",
    "ncolor = 0\n",
    "#plt.rcParams[\"figure.facecolor\"] = \"w\"\n",
    "for tick in tickers:\n",
    "    # Normalize values\n",
    "    stock_markets[tick] = (stock_markets[tick] - stock_markets[tick].min()) / (stock_markets[tick].max() - stock_markets[tick].min())\n",
    "    ax = stock_markets[tick].plot(color=colors[ncolor])\n",
    "    ax.legend()\n",
    "    ncolor+=1\n",
    "ax.set(facecolor = \"lightgrey\")\n",
    "ax1 = ax.twinx()\n",
    "Covid_OECD_final['cases_rolling'].plot(c = 'red', ax = ax1, linewidth=3)\n",
    "ax1.legend(loc='lower right')\n",
    "\n",
    "plt.suptitle('5 representative developed stock markets and Covid-19 cases evolution 🇨🇦', fontsize=18)\n",
    "ax.set_xlabel('Date', fontsize=14)\n",
    "ax.set_ylabel('Normalized stock prices', fontsize=14)\n",
    "ax1.set_ylabel('Nominal Covid-19 cases', fontsize=14)\n",
    "plt.grid(c='w')\n",
    "plt.show()"
   ]
  },
  {
   "cell_type": "code",
   "execution_count": null,
   "metadata": {},
   "outputs": [],
   "source": [
    "colors = ['green','tomato','mediumvioletred','cornflowerblue','dimgray']\n",
    "ncolor = 0\n",
    "#plt.rcParams[\"figure.facecolor\"] = \"w\"\n",
    "for tick in tickers:\n",
    "    # Normalize values\n",
    "    stocks_data[tick] = (stocks_data[tick] - stocks_data[tick].min()) / (stocks_data[tick].max() - stocks_data[tick].min())\n",
    "    ax = stocks_data[tick].plot(color=colors[ncolor])\n",
    "    ax.legend()\n",
    "    ncolor+=1\n",
    "ax.set(facecolor = \"lightgrey\")\n",
    "ax1 = ax.twinx()\n",
    "ax.set(facecolor = \"lightgrey\")\n",
    "Covid_OECD_final['deaths_rolling'].plot(c = 'black', ax = ax1, linewidth=3)\n",
    "ax1.legend(loc='lower right')\n",
    "plt.suptitle('5 representative developed stock markets and Covid-19 deaths evolution', fontsize=18)\n",
    "ax.set_xlabel('Date', fontsize=14)\n",
    "ax.set_ylabel('Normalized index prices', fontsize=14)\n",
    "ax1.set_ylabel('Nominal Covid-19 deaths', fontsize=14)\n",
    "plt.grid(c='w')\n",
    "plt.show()"
   ]
  },
  {
   "cell_type": "code",
   "execution_count": null,
   "metadata": {},
   "outputs": [],
   "source": []
  },
  {
   "cell_type": "code",
   "execution_count": null,
   "metadata": {},
   "outputs": [],
   "source": []
  }
 ],
 "metadata": {
  "kernelspec": {
   "display_name": "Python 3",
   "language": "python",
   "name": "python3"
  },
  "language_info": {
   "codemirror_mode": {
    "name": "ipython",
    "version": 3
   },
   "file_extension": ".py",
   "mimetype": "text/x-python",
   "name": "python",
   "nbconvert_exporter": "python",
   "pygments_lexer": "ipython3",
   "version": "3.8.5"
  }
 },
 "nbformat": 4,
 "nbformat_minor": 4
}
